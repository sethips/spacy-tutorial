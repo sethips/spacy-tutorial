{
 "cells": [
  {
   "cell_type": "code",
   "execution_count": 1,
   "metadata": {
    "collapsed": true
   },
   "outputs": [],
   "source": [
    "import spacy\n",
    "import pandas as pd\n",
    "import numpy as np"
   ]
  },
  {
   "cell_type": "markdown",
   "metadata": {},
   "source": [
    "# Loading Language Model and Corpus"
   ]
  },
  {
   "cell_type": "code",
   "execution_count": 2,
   "metadata": {
    "collapsed": false
   },
   "outputs": [],
   "source": [
    "nlp = spacy.load('en_core_web_sm')"
   ]
  },
  {
   "cell_type": "code",
   "execution_count": 3,
   "metadata": {
    "collapsed": false
   },
   "outputs": [],
   "source": [
    "with open('sample.txt', encoding='utf-8') as file:\n",
    "    document = file.read()"
   ]
  },
  {
   "cell_type": "code",
   "execution_count": 4,
   "metadata": {
    "collapsed": true
   },
   "outputs": [],
   "source": [
    "file.close()"
   ]
  },
  {
   "cell_type": "code",
   "execution_count": 5,
   "metadata": {
    "collapsed": false
   },
   "outputs": [
    {
     "data": {
      "text/plain": [
       "'Nice place Better than some reviews give it credit for. Overall, the rooms were a bit small but nice'"
      ]
     },
     "execution_count": 5,
     "metadata": {},
     "output_type": "execute_result"
    }
   ],
   "source": [
    "document[:100]"
   ]
  },
  {
   "cell_type": "markdown",
   "metadata": {},
   "source": [
    "# Using Language Model over the Corpus"
   ]
  },
  {
   "cell_type": "code",
   "execution_count": 6,
   "metadata": {
    "collapsed": false
   },
   "outputs": [],
   "source": [
    "document = nlp(document)"
   ]
  },
  {
   "cell_type": "code",
   "execution_count": 7,
   "metadata": {
    "collapsed": false
   },
   "outputs": [
    {
     "data": {
      "text/plain": [
       "Nice place Better than some reviews give it credit for. Overall, the rooms were a bit small but nice. Everything was clean, the view was wonderful and it is very well located (the Prudential Center makes shopping and eating easy and the T is nearby for jaunts out and about the city). Overall, it was a good experience and the staff was quite friendly. \n",
       "what a surprise What a surprise the Sheraton was after reading some of the reviews. it would appear there is a massive difference in the"
      ]
     },
     "execution_count": 7,
     "metadata": {},
     "output_type": "execute_result"
    }
   ],
   "source": [
    "document[:100]"
   ]
  },
  {
   "cell_type": "code",
   "execution_count": 8,
   "metadata": {
    "collapsed": false
   },
   "outputs": [],
   "source": [
    "sentences = list(document.sents)"
   ]
  },
  {
   "cell_type": "code",
   "execution_count": 9,
   "metadata": {
    "collapsed": false
   },
   "outputs": [
    {
     "data": {
      "text/plain": [
       "Nice place Better than some reviews give it credit for."
      ]
     },
     "execution_count": 9,
     "metadata": {},
     "output_type": "execute_result"
    }
   ],
   "source": [
    "sentences[0]"
   ]
  },
  {
   "cell_type": "markdown",
   "metadata": {},
   "source": [
    "# Part of Speech Tagging"
   ]
  },
  {
   "cell_type": "code",
   "execution_count": 10,
   "metadata": {
    "collapsed": false
   },
   "outputs": [
    {
     "name": "stdout",
     "output_type": "stream",
     "text": [
      "Word \t Lemma \t Pos \t Tag \t Dep \t Shape \t alpha \t Is_stop\n",
      "Nice \t nice \t ADJ \t JJ \t amod \t Xxxx \t True \t False\n",
      "place \t place \t NOUN \t NN \t ROOT \t xxxx \t True \t False\n",
      "Better \t good \t ADJ \t JJR \t amod \t Xxxxx \t True \t False\n",
      "than \t than \t ADP \t IN \t mark \t xxxx \t True \t True\n",
      "some \t some \t DET \t DT \t det \t xxxx \t True \t True\n",
      "reviews \t review \t NOUN \t NNS \t nsubj \t xxxx \t True \t False\n",
      "give \t give \t VERB \t VBP \t advcl \t xxxx \t True \t True\n",
      "it \t -PRON- \t PRON \t PRP \t dative \t xx \t True \t True\n",
      "credit \t credit \t NOUN \t NN \t dobj \t xxxx \t True \t False\n",
      "for \t for \t ADP \t IN \t prep \t xxx \t True \t True\n",
      ". \t . \t PUNCT \t . \t punct \t . \t False \t False\n"
     ]
    }
   ],
   "source": [
    "print(\"Word\",\"\\t\",\"Lemma\",\"\\t\",\"Pos\",\"\\t\",\"Tag\",\"\\t\",\"Dep\",\"\\t\",\"Shape\",\"\\t\",\"alpha\",\"\\t\",\"Is_stop\")\n",
    "for token in sentences[0]:\n",
    "    print(token,\"\\t\", token.lemma_,\"\\t\", token.pos_,\"\\t\", token.tag_,\"\\t\", token.dep_,\"\\t\", token.shape_,\"\\t\", token.is_alpha,\"\\t\", token.is_stop)"
   ]
  },
  {
   "cell_type": "markdown",
   "metadata": {},
   "source": [
    "# Entity Detection"
   ]
  },
  {
   "cell_type": "code",
   "execution_count": 17,
   "metadata": {
    "collapsed": false
   },
   "outputs": [
    {
     "data": {
      "text/plain": [
       "Nice place Better than some reviews give it credit for."
      ]
     },
     "execution_count": 17,
     "metadata": {},
     "output_type": "execute_result"
    }
   ],
   "source": [
    "document[:11]"
   ]
  },
  {
   "cell_type": "code",
   "execution_count": 19,
   "metadata": {
    "collapsed": false
   },
   "outputs": [
    {
     "data": {
      "text/plain": [
       "(Nice,\n",
       " the Prudential Center,\n",
       " ,\n",
       " Sheraton,\n",
       " South,\n",
       " the Wrentham Village,\n",
       " just under $30,\n",
       " ,\n",
       " Boston,\n",
       " 17th)"
      ]
     },
     "execution_count": 19,
     "metadata": {},
     "output_type": "execute_result"
    }
   ],
   "source": [
    "entities = document.ents[:10]\n",
    "entities"
   ]
  },
  {
   "cell_type": "code",
   "execution_count": 38,
   "metadata": {
    "collapsed": false
   },
   "outputs": [
    {
     "name": "stdout",
     "output_type": "stream",
     "text": [
      "Nice 0 4 GPE\n",
      "the Prudential Center 176 197 ORG\n",
      "\n",
      " 353 354 GPE\n",
      "Sheraton 390 398 ORG\n",
      "South 502 507 LOC\n",
      "the Wrentham Village 682 702 GPE\n",
      "just under $30 1092 1106 MONEY\n",
      "\n",
      " 1108 1109 GPE\n",
      "Boston 1129 1135 GPE\n",
      "17th 1141 1145 ORDINAL\n"
     ]
    }
   ],
   "source": [
    "for ent in document.ents[:10]:\n",
    "    print(ent.text, ent.start_char, ent.end_char, ent.label_)"
   ]
  },
  {
   "cell_type": "code",
   "execution_count": null,
   "metadata": {
    "collapsed": true
   },
   "outputs": [],
   "source": []
  }
 ],
 "metadata": {
  "kernelspec": {
   "display_name": "Python 3",
   "language": "python",
   "name": "python3"
  },
  "language_info": {
   "codemirror_mode": {
    "name": "ipython",
    "version": 3
   },
   "file_extension": ".py",
   "mimetype": "text/x-python",
   "name": "python",
   "nbconvert_exporter": "python",
   "pygments_lexer": "ipython3",
   "version": "3.6.0"
  }
 },
 "nbformat": 4,
 "nbformat_minor": 2
}
